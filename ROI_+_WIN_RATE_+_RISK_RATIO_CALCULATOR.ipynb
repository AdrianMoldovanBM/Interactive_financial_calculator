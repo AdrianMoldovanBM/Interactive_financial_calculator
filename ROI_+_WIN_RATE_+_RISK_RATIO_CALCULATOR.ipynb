{
  "nbformat": 4,
  "nbformat_minor": 0,
  "metadata": {
    "colab": {
      "provenance": [],
      "authorship_tag": "ABX9TyOnbuxT9efI87I0OA65Mfsr"
    },
    "kernelspec": {
      "name": "python3",
      "display_name": "Python 3"
    },
    "language_info": {
      "name": "python"
    }
  },
  "cells": [
    {
      "cell_type": "markdown",
      "source": [
        "# ROI + WIN RATE + RISK RATIO CALCULATOR"
      ],
      "metadata": {
        "id": "TjeiQ8C4yMRp"
      }
    },
    {
      "cell_type": "code",
      "execution_count": null,
      "metadata": {
        "id": "nguHtLN8yL1K"
      },
      "outputs": [],
      "source": [
        "def calculate():\n",
        "    # Prompting the user to choose what types of calculation he wants and converting all inputs into lower strings\n",
        "    user_input = input(\"What do you want to calculate: ROI, win rate, risk ratio\").lower()\n",
        "\n",
        "    # Implementing the first if condition, depending on the user's choice\n",
        "    if user_input == \"roi\":\n",
        "        prof_val = float(input(\"Enter profit value: \"))\n",
        "        cost = float(input(\"Enter investment cost: \"))\n",
        "        val_ROI = float(prof_val - cost) / cost * 100\n",
        "\n",
        "        # Rounding the results with only two decimal places for ease of readability\n",
        "        round_ROI = round(val_ROI,2)\n",
        "        print(\"You have a ROI of {}%\".format(round_ROI))\n",
        "\n",
        "    # Implementing the second if statement, using elif function\n",
        "    elif user_input == \"win rate\":\n",
        "        win = float(input(\"Enter profit value: \"))\n",
        "        cost = float(input(\"Enter investment cost: \"))\n",
        "        win_rate = win/cost\n",
        "\n",
        "        # Rounding the results and displaying in a format indicating a ratio (either win:1 or 1:win, depending on whether the win is smaller or larger than the cost)\n",
        "        round_win = round(win_rate,2)\n",
        "        if win < cost:\n",
        "            print(\"Your win rate is {}:1\".format(round_win))\n",
        "        else:\n",
        "            print(\"Your win rate is 1:{}\".format(round_win))\n",
        "\n",
        "    # Implementing the third if statement, using elif function\n",
        "    elif user_input == \"risk ratio\":\n",
        "        win = float(input(\"Enter profit value: \"))\n",
        "        risk = float(input(\"Enter investment cost: \"))\n",
        "        risk_ratio = risk/win\n",
        "\n",
        "        # Rounding the result and presenting it as a percentage\n",
        "        round_risk = round(risk_ratio,2)\n",
        "        print(\"Your risk ratio is {}%\".format(round_risk))\n",
        "\n",
        "    # Dealing with invalid inputs\n",
        "    elif user_input != \"roi\"\"win rate\"\"risk ratio\":\n",
        "        return \"Please enter a valid choice\"\n",
        "\n",
        "# Implementation:\n",
        "calculate()"
      ]
    }
  ]
}